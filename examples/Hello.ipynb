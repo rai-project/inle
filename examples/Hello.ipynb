{
 "cells": [
  {
   "cell_type": "code",
   "execution_count": 1,
   "metadata": {
    "collapsed": false,
    "deletable": true,
    "editable": true,
    "scrolled": true
   },
   "outputs": [
    {
     "data": {
      "text/plain": [
       "total 72\r\n",
       "drwxr-xr-x   2 root root 4096 Apr 11 00:59 bin\r\n",
       "drwxr-xr-x   2 root root 4096 Apr 10 11:29 boot\r\n",
       "drwxr-xr-x   2 root root 4096 Apr 24 14:47 build\r\n",
       "drwxr-xr-x  11 root root 2820 Apr 24 14:47 dev\r\n",
       "drwxr-xr-x   1 root root 4096 Apr 24 14:47 etc\r\n",
       "drwxr-xr-x   2 root root 4096 Apr 10 11:29 home\r\n",
       "drwxr-xr-x   8 root root 4096 Feb 16 15:15 lib\r\n",
       "drwxr-xr-x   2 root root 4096 Apr 11 00:59 lib64\r\n",
       "drwxr-xr-x   2 root root 4096 Apr 11 00:59 media\r\n",
       "drwxr-xr-x   2 root root 4096 Apr 11 00:59 mnt\r\n",
       "drwxr-xr-x   2 root root 4096 Apr 11 00:59 opt\r\n",
       "dr-xr-xr-x 143 root root    0 Apr 24 14:47 proc\r\n",
       "drwx------   2 root root 4096 Apr 11 00:59 root\r\n",
       "drwxr-xr-x   1 root root 4096 Apr 12 21:07 run\r\n",
       "drwxr-xr-x   1 root root 4096 Apr 12 21:07 sbin\r\n",
       "drwxr-xr-x   2 root root 4096 Apr 24 14:47 src\r\n",
       "drwxr-xr-x   2 root root 4096 Apr 11 00:59 srv\r\n",
       "dr-xr-xr-x  13 root root    0 Apr 23 23:40 sys\r\n",
       "drwxrwxrwt   2 root root 4096 Apr 11 00:59 tmp\r\n",
       "drwxr-xr-x   1 root root 4096 Apr 12 21:07 usr\r\n",
       "drwxr-xr-x   1 root root 4096 Apr 12 21:07 var\r\n"
      ]
     },
     "execution_count": 1,
     "metadata": {},
     "output_type": "execute_result"
    }
   ],
   "source": [
    "ls -l /"
   ]
  },
  {
   "cell_type": "code",
   "execution_count": 3,
   "metadata": {
    "collapsed": false,
    "deletable": true,
    "editable": true
   },
   "outputs": [
    {
     "data": {
      "text/plain": [
       "root\r\n"
      ]
     },
     "execution_count": 3,
     "metadata": {},
     "output_type": "execute_result"
    }
   ],
   "source": [
    "whoami"
   ]
  },
  {
   "cell_type": "markdown",
   "metadata": {
    "collapsed": true,
    "deletable": true,
    "editable": true
   },
   "source": [
    "# CUDA\n",
    "\n",
    "do stuff\n",
    "\n",
    "`kflsda`"
   ]
  },
  {
   "cell_type": "code",
   "execution_count": null,
   "metadata": {
    "collapsed": false,
    "deletable": true,
    "editable": true
   },
   "outputs": [],
   "source": [
    "%%nvcc -some\n",
    "__global__ void vecAdd(float * in1, float * in2, float * out, int len) {\n",
    "    //@@ Insert code to implement vector addition here\n",
    "    int index = threadIdx.x + blockIdx.x*blockDim.x;\n",
    "    if (index < len) {\n",
    "        out[index] = in1[index] + in2[index];\n",
    "\t} else {\n",
    "\t\tprintf(\"%d\\n\", index);\n",
    "\t}\n",
    "}"
   ]
  },
  {
   "cell_type": "code",
   "execution_count": null,
   "metadata": {
    "collapsed": false,
    "deletable": true,
    "editable": true
   },
   "outputs": [],
   "source": [
    "<p>foo</p>"
   ]
  },
  {
   "cell_type": "code",
   "execution_count": null,
   "metadata": {
    "collapsed": true,
    "deletable": true,
    "editable": true
   },
   "outputs": [],
   "source": []
  }
 ],
 "metadata": {
  "kernelspec": {
   "display_name": "Inle",
   "language": "rai",
   "name": "inle_spec"
  },
  "language_info": {
   "codemirror_mode": "text/x-c++src",
   "file_extension": ".rai",
   "mimetype": "application/x-rai",
   "name": "rai",
   "version": "go1.8.1"
  }
 },
 "nbformat": 4,
 "nbformat_minor": 2
}
