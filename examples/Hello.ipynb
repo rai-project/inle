{
 "cells": [
  {
   "cell_type": "code",
   "execution_count": null,
   "metadata": {
    "collapsed": false,
    "deletable": true,
    "editable": true
   },
   "outputs": [],
   "source": [
    "2"
   ]
  },
  {
   "cell_type": "code",
   "execution_count": 1,
   "metadata": {
    "collapsed": false,
    "deletable": true,
    "editable": true
   },
   "outputs": [
    {
     "data": {
      "text/plain": [
       "Hello.... got 44 ... detected the langauge to be Unknown"
      ]
     },
     "execution_count": 1,
     "metadata": {},
     "output_type": "execute_result"
    }
   ],
   "source": [
    "44"
   ]
  },
  {
   "cell_type": "markdown",
   "metadata": {
    "collapsed": true,
    "deletable": true,
    "editable": true
   },
   "source": [
    "# CUDA"
   ]
  },
  {
   "cell_type": "code",
   "execution_count": 2,
   "metadata": {
    "collapsed": false,
    "deletable": true,
    "editable": true
   },
   "outputs": [
    {
     "data": {
      "text/plain": [
       "Hello.... got __global__ void vecAdd(float * in1, float * in2, float * out, int len) {\n",
       "    //@@ Insert code to implement vector addition here\n",
       "    int index = threadIdx.x + blockIdx.x*blockDim.x;\n",
       "    if (index < len) {\n",
       "        out[index] = in1[index] + in2[index];\n",
       "\t} else {\n",
       "\t\tprintf(\"%d\\n\", index);\n",
       "\t}\n",
       "} ... detected the langauge to be "
      ]
     },
     "execution_count": 2,
     "metadata": {},
     "output_type": "execute_result"
    }
   ],
   "source": [
    "__global__ void vecAdd(float * in1, float * in2, float * out, int len) {\n",
    "    //@@ Insert code to implement vector addition here\n",
    "    int index = threadIdx.x + blockIdx.x*blockDim.x;\n",
    "    if (index < len) {\n",
    "        out[index] = in1[index] + in2[index];\n",
    "\t} else {\n",
    "\t\tprintf(\"%d\\n\", index);\n",
    "\t}\n",
    "}"
   ]
  },
  {
   "cell_type": "code",
   "execution_count": null,
   "metadata": {
    "collapsed": true,
    "deletable": true,
    "editable": true
   },
   "outputs": [],
   "source": []
  }
 ],
 "metadata": {
  "kernelspec": {
   "display_name": "Inle",
   "language": "rai",
   "name": "inle_spec"
  },
  "language_info": {
   "file_extension": ".rai",
   "mimetype": "application/x-rai",
   "name": "rai",
   "version": "go1.8.1"
  }
 },
 "nbformat": 4,
 "nbformat_minor": 2
}
