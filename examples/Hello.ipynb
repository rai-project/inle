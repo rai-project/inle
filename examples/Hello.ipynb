{
 "cells": [
  {
   "cell_type": "code",
   "execution_count": 8,
   "metadata": {
    "collapsed": false,
    "deletable": true,
    "editable": true,
    "scrolled": true
   },
   "outputs": [
    {
     "data": {
      "text/plain": [
       "Hello.... got 2 ... detected the langauge to be "
      ]
     },
     "execution_count": 8,
     "metadata": {},
     "output_type": "execute_result"
    }
   ],
   "source": [
    "2"
   ]
  },
  {
   "cell_type": "code",
   "execution_count": 9,
   "metadata": {
    "collapsed": false,
    "deletable": true,
    "editable": true
   },
   "outputs": [
    {
     "data": {
      "text/plain": [
       "Hello.... got 44 ... detected the langauge to be "
      ]
     },
     "execution_count": 9,
     "metadata": {},
     "output_type": "execute_result"
    }
   ],
   "source": [
    "44"
   ]
  },
  {
   "cell_type": "markdown",
   "metadata": {
    "collapsed": true,
    "deletable": true,
    "editable": true
   },
   "source": [
    "# CUDA\n",
    "\n",
    "do stuff\n",
    "\n",
    "`kflsda`"
   ]
  },
  {
   "cell_type": "code",
   "execution_count": 11,
   "metadata": {
    "collapsed": false,
    "deletable": true,
    "editable": true
   },
   "outputs": [
    {
     "data": {
      "text/plain": [
       "Hello.... got %%nvcc -some\n",
       "__global__ void vecAdd(float * in1, float * in2, float * out, int len) {\n",
       "    //@@ Insert code to implement vector addition here\n",
       "    int index = threadIdx.x + blockIdx.x*blockDim.x;\n",
       "    if (index < len) {\n",
       "        out[index] = in1[index] + in2[index];\n",
       "\t} else {\n",
       "\t\tprintf(\"%d\\n\", index);\n",
       "\t}\n",
       "} ... detected the langauge to be "
      ]
     },
     "execution_count": 11,
     "metadata": {},
     "output_type": "execute_result"
    }
   ],
   "source": [
    "%%nvcc -some\n",
    "__global__ void vecAdd(float * in1, float * in2, float * out, int len) {\n",
    "    //@@ Insert code to implement vector addition here\n",
    "    int index = threadIdx.x + blockIdx.x*blockDim.x;\n",
    "    if (index < len) {\n",
    "        out[index] = in1[index] + in2[index];\n",
    "\t} else {\n",
    "\t\tprintf(\"%d\\n\", index);\n",
    "\t}\n",
    "}"
   ]
  },
  {
   "cell_type": "code",
   "execution_count": 12,
   "metadata": {
    "collapsed": false,
    "deletable": true,
    "editable": true
   },
   "outputs": [
    {
     "data": {
      "text/plain": [
       "Hello.... got <p>foo</p> ... detected the langauge to be "
      ]
     },
     "execution_count": 12,
     "metadata": {},
     "output_type": "execute_result"
    }
   ],
   "source": [
    "<p>foo</p>"
   ]
  },
  {
   "cell_type": "code",
   "execution_count": null,
   "metadata": {
    "collapsed": true,
    "deletable": true,
    "editable": true
   },
   "outputs": [],
   "source": []
  }
 ],
 "metadata": {
  "kernelspec": {
   "display_name": "Inle",
   "language": "rai",
   "name": "inle_spec"
  },
  "language_info": {
   "file_extension": ".rai",
   "mimetype": "application/x-rai",
   "name": "rai",
   "version": "go1.8.1"
  }
 },
 "nbformat": 4,
 "nbformat_minor": 2
}
